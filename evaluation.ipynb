{
 "cells": [
  {
   "cell_type": "code",
   "execution_count": 1,
   "metadata": {
    "colab": {},
    "colab_type": "code",
    "id": "r1NmejTIFPtf"
   },
   "outputs": [
    {
     "name": "stderr",
     "output_type": "stream",
     "text": [
      "2022-12-13 04:03:22.608624: I tensorflow/stream_executor/platform/default/dso_loader.cc:53] Successfully opened dynamic library libcudart.so.11.0\n"
     ]
    }
   ],
   "source": [
    "#Dependencies\n",
    "import pandas as pd\n",
    "import numpy as np\n",
    "import tensorflow as tf\n",
    "import itertools\n",
    "import matplotlib.pyplot as plt\n",
    "import time\n",
    "\n",
    "from envs import OfflineEnv\n",
    "from recommender import DRRAgent\n",
    "\n",
    "import os\n",
    "\n",
    "ROOT_DIR = os.getcwd()\n",
    "DATA_DIR = os.path.join(ROOT_DIR, 'ml-1m/ml-1m')\n",
    "STATE_SIZE = 10"
   ]
  },
  {
   "cell_type": "markdown",
   "metadata": {},
   "source": [
    "#  Check Data"
   ]
  },
  {
   "cell_type": "code",
   "execution_count": 2,
   "metadata": {
    "colab": {},
    "colab_type": "code",
    "id": "b8aPaxXpNsz7",
    "scrolled": true
   },
   "outputs": [
    {
     "name": "stderr",
     "output_type": "stream",
     "text": [
      "/tmp/ipykernel_1884264/84107141.py:5: FutureWarning: Could not cast to uint32, falling back to object. This behavior is deprecated. In a future version, when a dtype is passed to 'DataFrame', either all columns will be cast to that dtype, or a TypeError will be raised.\n",
      "  ratings_df = pd.DataFrame(ratings_list, columns = ['UserID', 'MovieID', 'Rating', 'Timestamp'], dtype = np.uint32)\n"
     ]
    }
   ],
   "source": [
    "#Loading datasets\n",
    "ratings_list = [i.strip().split(\"::\") for i in open(os.path.join(DATA_DIR,'ratings.dat'), 'r').readlines()]\n",
    "users_list = [i.strip().split(\"::\") for i in open(os.path.join(DATA_DIR,'users.dat'), 'r').readlines()]\n",
    "movies_list = [i.strip().split(\"::\") for i in open(os.path.join(DATA_DIR,'movies.dat'),encoding='latin-1').readlines()]\n",
    "ratings_df = pd.DataFrame(ratings_list, columns = ['UserID', 'MovieID', 'Rating', 'Timestamp'], dtype = np.uint32)\n",
    "movies_df = pd.DataFrame(movies_list, columns = ['MovieID', 'Title', 'Genres'])\n",
    "movies_df['MovieID'] = movies_df['MovieID'].apply(pd.to_numeric)"
   ]
  },
  {
   "cell_type": "code",
   "execution_count": 3,
   "metadata": {
    "scrolled": true
   },
   "outputs": [],
   "source": [
    "# moive id to movie title\n",
    "movies_id_to_movies = {movie[0]: movie[1:] for movie in movies_list}"
   ]
  },
  {
   "cell_type": "code",
   "execution_count": 4,
   "metadata": {},
   "outputs": [
    {
     "data": {
      "text/plain": [
       "3883"
      ]
     },
     "execution_count": 4,
     "metadata": {},
     "output_type": "execute_result"
    }
   ],
   "source": [
    "# number of movies\n",
    "len(movies_list)"
   ]
  },
  {
   "cell_type": "code",
   "execution_count": 5,
   "metadata": {},
   "outputs": [
    {
     "data": {
      "text/html": [
       "<div>\n",
       "<style scoped>\n",
       "    .dataframe tbody tr th:only-of-type {\n",
       "        vertical-align: middle;\n",
       "    }\n",
       "\n",
       "    .dataframe tbody tr th {\n",
       "        vertical-align: top;\n",
       "    }\n",
       "\n",
       "    .dataframe thead th {\n",
       "        text-align: right;\n",
       "    }\n",
       "</style>\n",
       "<table border=\"1\" class=\"dataframe\">\n",
       "  <thead>\n",
       "    <tr style=\"text-align: right;\">\n",
       "      <th></th>\n",
       "      <th>UserID</th>\n",
       "      <th>MovieID</th>\n",
       "      <th>Rating</th>\n",
       "      <th>Timestamp</th>\n",
       "    </tr>\n",
       "  </thead>\n",
       "  <tbody>\n",
       "    <tr>\n",
       "      <th>0</th>\n",
       "      <td>1</td>\n",
       "      <td>1193</td>\n",
       "      <td>5</td>\n",
       "      <td>978300760</td>\n",
       "    </tr>\n",
       "    <tr>\n",
       "      <th>1</th>\n",
       "      <td>1</td>\n",
       "      <td>661</td>\n",
       "      <td>3</td>\n",
       "      <td>978302109</td>\n",
       "    </tr>\n",
       "    <tr>\n",
       "      <th>2</th>\n",
       "      <td>1</td>\n",
       "      <td>914</td>\n",
       "      <td>3</td>\n",
       "      <td>978301968</td>\n",
       "    </tr>\n",
       "    <tr>\n",
       "      <th>3</th>\n",
       "      <td>1</td>\n",
       "      <td>3408</td>\n",
       "      <td>4</td>\n",
       "      <td>978300275</td>\n",
       "    </tr>\n",
       "    <tr>\n",
       "      <th>4</th>\n",
       "      <td>1</td>\n",
       "      <td>2355</td>\n",
       "      <td>5</td>\n",
       "      <td>978824291</td>\n",
       "    </tr>\n",
       "  </tbody>\n",
       "</table>\n",
       "</div>"
      ],
      "text/plain": [
       "  UserID MovieID Rating  Timestamp\n",
       "0      1    1193      5  978300760\n",
       "1      1     661      3  978302109\n",
       "2      1     914      3  978301968\n",
       "3      1    3408      4  978300275\n",
       "4      1    2355      5  978824291"
      ]
     },
     "execution_count": 5,
     "metadata": {},
     "output_type": "execute_result"
    }
   ],
   "source": [
    "# check the ratings\n",
    "ratings_df.head(5)"
   ]
  },
  {
   "cell_type": "code",
   "execution_count": 7,
   "metadata": {},
   "outputs": [
    {
     "data": {
      "image/png": "[encoded data removed]",
      "text/plain": [
       "<Figure size 2000x1000 with 1 Axes>"
      ]
     },
     "metadata": {},
     "output_type": "display_data"
    }
   ],
   "source": [
    "# check the distribution of movies choosen by user\n",
    "plt.figure(figsize=(20,10))\n",
    "plt.hist(ratings_df[\"MovieID\"], bins=100)\n",
    "plt.show()"
   ]
  },
  {
   "cell_type": "code",
   "execution_count": 8,
   "metadata": {},
   "outputs": [
    {
     "data": {
      "text/plain": [
       "UserID       0\n",
       "MovieID      0\n",
       "Rating       0\n",
       "Timestamp    0\n",
       "dtype: int64"
      ]
     },
     "execution_count": 8,
     "metadata": {},
     "output_type": "execute_result"
    }
   ],
   "source": [
    "# check null\n",
    "ratings_df.isnull().sum()"
   ]
  },
  {
   "cell_type": "code",
   "execution_count": 9,
   "metadata": {
    "scrolled": true
   },
   "outputs": [
    {
     "name": "stdout",
     "output_type": "stream",
     "text": [
      "True\n",
      "6040\n"
     ]
    }
   ],
   "source": [
    "# check the maximum value of UserID\n",
    "print(len(set(ratings_df[\"UserID\"])) == max([int(i) for i in set(ratings_df[\"UserID\"])]))\n",
    "print(max([int(i) for i in set(ratings_df[\"UserID\"])]))"
   ]
  },
  {
   "cell_type": "code",
   "execution_count": 10,
   "metadata": {},
   "outputs": [],
   "source": [
    "# make suer the ratings are integer\n",
    "ratings_df = ratings_df.applymap(int)"
   ]
  },
  {
   "cell_type": "code",
   "execution_count": 11,
   "metadata": {},
   "outputs": [
    {
     "data": {
      "text/plain": [
       "[]"
      ]
     },
     "execution_count": 11,
     "metadata": {},
     "output_type": "execute_result"
    }
   ],
   "source": [
    "# 유저별로 본 영화들 순서대로 정리\n",
    "# make the user dictionary which have a value as movies list the user watched\n",
    "users_dict = {user : [] for user in set(ratings_df[\"UserID\"])}\n",
    "users_dict[1]"
   ]
  },
  {
   "cell_type": "code",
   "execution_count": 12,
   "metadata": {},
   "outputs": [
    {
     "data": {
      "text/html": [
       "<div>\n",
       "<style scoped>\n",
       "    .dataframe tbody tr th:only-of-type {\n",
       "        vertical-align: middle;\n",
       "    }\n",
       "\n",
       "    .dataframe tbody tr th {\n",
       "        vertical-align: top;\n",
       "    }\n",
       "\n",
       "    .dataframe thead th {\n",
       "        text-align: right;\n",
       "    }\n",
       "</style>\n",
       "<table border=\"1\" class=\"dataframe\">\n",
       "  <thead>\n",
       "    <tr style=\"text-align: right;\">\n",
       "      <th></th>\n",
       "      <th>UserID</th>\n",
       "      <th>MovieID</th>\n",
       "      <th>Rating</th>\n",
       "      <th>Timestamp</th>\n",
       "    </tr>\n",
       "  </thead>\n",
       "  <tbody>\n",
       "    <tr>\n",
       "      <th>1000138</th>\n",
       "      <td>6040</td>\n",
       "      <td>858</td>\n",
       "      <td>4</td>\n",
       "      <td>956703932</td>\n",
       "    </tr>\n",
       "    <tr>\n",
       "      <th>1000153</th>\n",
       "      <td>6040</td>\n",
       "      <td>2384</td>\n",
       "      <td>4</td>\n",
       "      <td>956703954</td>\n",
       "    </tr>\n",
       "    <tr>\n",
       "      <th>999873</th>\n",
       "      <td>6040</td>\n",
       "      <td>593</td>\n",
       "      <td>5</td>\n",
       "      <td>956703954</td>\n",
       "    </tr>\n",
       "    <tr>\n",
       "      <th>1000007</th>\n",
       "      <td>6040</td>\n",
       "      <td>1961</td>\n",
       "      <td>4</td>\n",
       "      <td>956703977</td>\n",
       "    </tr>\n",
       "    <tr>\n",
       "      <th>1000192</th>\n",
       "      <td>6040</td>\n",
       "      <td>2019</td>\n",
       "      <td>5</td>\n",
       "      <td>956703977</td>\n",
       "    </tr>\n",
       "  </tbody>\n",
       "</table>\n",
       "</div>"
      ],
      "text/plain": [
       "         UserID  MovieID  Rating  Timestamp\n",
       "1000138    6040      858       4  956703932\n",
       "1000153    6040     2384       4  956703954\n",
       "999873     6040      593       5  956703954\n",
       "1000007    6040     1961       4  956703977\n",
       "1000192    6040     2019       5  956703977"
      ]
     },
     "execution_count": 12,
     "metadata": {},
     "output_type": "execute_result"
    }
   ],
   "source": [
    "# order the dataset by time\n",
    "ratings_df = ratings_df.sort_values(by='Timestamp', ascending=True)\n",
    "ratings_df.head(5)"
   ]
  },
  {
   "cell_type": "code",
   "execution_count": 13,
   "metadata": {},
   "outputs": [],
   "source": [
    "# add (movie, rating) pair to the user dictionary\n",
    "## add movie rated >= 4 only\n",
    "ratings_df_gen = ratings_df.iterrows()\n",
    "users_dict_for_history_len = {user : [] for user in set(ratings_df[\"UserID\"])}\n",
    "for data in ratings_df_gen:\n",
    "    users_dict[data[1]['UserID']].append((data[1]['MovieID'], data[1]['Rating']))\n",
    "    if data[1]['Rating'] >= 4:\n",
    "        users_dict_for_history_len[data[1]['UserID']].append((data[1]['MovieID'], data[1]['Rating']))"
   ]
  },
  {
   "cell_type": "code",
   "execution_count": 14,
   "metadata": {
    "scrolled": true
   },
   "outputs": [],
   "source": [
    "# the length of history for each user\n",
    "users_history_lens = [len(users_dict_for_history_len[u]) for u in set(ratings_df[\"UserID\"])]"
   ]
  },
  {
   "cell_type": "code",
   "execution_count": 15,
   "metadata": {},
   "outputs": [
    {
     "data": {
      "text/plain": [
       "6040"
      ]
     },
     "execution_count": 15,
     "metadata": {},
     "output_type": "execute_result"
    }
   ],
   "source": [
    "# check the length of above list\n",
    "len(users_history_lens)"
   ]
  },
  {
   "cell_type": "code",
   "execution_count": 16,
   "metadata": {
    "scrolled": true
   },
   "outputs": [
    {
     "data": {
      "text/plain": [
       "[(3186, 4),\n",
       " (1721, 4),\n",
       " (1270, 5),\n",
       " (1022, 5),\n",
       " (2340, 3),\n",
       " (1836, 5),\n",
       " (3408, 4),\n",
       " (1207, 4),\n",
       " (2804, 5),\n",
       " (260, 4)]"
      ]
     },
     "execution_count": 16,
     "metadata": {},
     "output_type": "execute_result"
    }
   ],
   "source": [
    "# check the user dictionary\n",
    "users_dict[1][:10]"
   ]
  },
  {
   "cell_type": "code",
   "execution_count": 17,
   "metadata": {},
   "outputs": [],
   "source": [
    "# save each data as npy to save time for future evaluation\n",
    "np.save(\"./data/user_dict.npy\", users_dict)\n",
    "np.save(\"./data/users_histroy_len.npy\", users_history_lens)"
   ]
  },
  {
   "cell_type": "code",
   "execution_count": 17,
   "metadata": {},
   "outputs": [],
   "source": [
    "# get the number of users and items\n",
    "users_num = max(ratings_df[\"UserID\"])+1\n",
    "items_num = max(ratings_df[\"MovieID\"])+1"
   ]
  },
  {
   "cell_type": "code",
   "execution_count": 19,
   "metadata": {
    "scrolled": false
   },
   "outputs": [
    {
     "name": "stdout",
     "output_type": "stream",
     "text": [
      "6041 3953\n"
     ]
    }
   ],
   "source": [
    "# check the following variables\n",
    "print(users_num, items_num)"
   ]
  },
  {
   "cell_type": "markdown",
   "metadata": {},
   "source": [
    "### setting for training dataset"
   ]
  },
  {
   "cell_type": "code",
   "execution_count": 20,
   "metadata": {},
   "outputs": [
    {
     "name": "stdout",
     "output_type": "stream",
     "text": [
      "4832 3953\n"
     ]
    }
   ],
   "source": [
    "train_users_num = int(users_num * 0.8)\n",
    "train_items_num = items_num\n",
    "print(train_users_num, train_items_num)"
   ]
  },
  {
   "cell_type": "code",
   "execution_count": 21,
   "metadata": {},
   "outputs": [
    {
     "name": "stdout",
     "output_type": "stream",
     "text": [
      "4832 4832\n"
     ]
    }
   ],
   "source": [
    "train_users_dict = {k:users_dict[k] for k in range(1, train_users_num+1)}\n",
    "train_users_history_lens = users_history_lens[:train_users_num]\n",
    "print(len(train_users_dict),len(train_users_history_lens))"
   ]
  },
  {
   "cell_type": "markdown",
   "metadata": {},
   "source": [
    "### setting for evaluation dataset"
   ]
  },
  {
   "cell_type": "code",
   "execution_count": 22,
   "metadata": {},
   "outputs": [
    {
     "name": "stdout",
     "output_type": "stream",
     "text": [
      "1208 3953\n"
     ]
    }
   ],
   "source": [
    "eval_users_num = int(users_num * 0.2)\n",
    "eval_items_num = items_num\n",
    "print(eval_users_num, eval_items_num)"
   ]
  },
  {
   "cell_type": "code",
   "execution_count": 23,
   "metadata": {},
   "outputs": [
    {
     "name": "stdout",
     "output_type": "stream",
     "text": [
      "1208 1208\n"
     ]
    }
   ],
   "source": [
    "eval_users_dict = {k:users_dict[k] for k in range(users_num-eval_users_num, users_num)}\n",
    "eval_users_history_lens = users_history_lens[-eval_users_num:]\n",
    "print(len(eval_users_dict),len(eval_users_history_lens))"
   ]
  },
  {
   "cell_type": "markdown",
   "metadata": {},
   "source": [
    "### the variables are ready\n",
    "- users_dict\n",
    "- users_history_len\n",
    "- movies_id_to_movies\n",
    "- users_num\n",
    "- items_num"
   ]
  },
  {
   "cell_type": "markdown",
   "metadata": {},
   "source": [
    "# Evalutation"
   ]
  },
  {
   "cell_type": "code",
   "execution_count": 31,
   "metadata": {},
   "outputs": [],
   "source": [
    "def evaluate(recommender, env, check_movies = False, top_k=False):\n",
    "\n",
    "    # episodic reward 리셋\n",
    "    episode_reward = 0\n",
    "    steps = 0\n",
    "    mean_precision = 0\n",
    "    mean_ndcg = 0\n",
    "    # Environment 리셋\n",
    "    user_id, items_ids, done = env.reset()\n",
    "    if check_movies:\n",
    "        print(f'user_id : {user_id}, rated_items_length:{len(env.user_items)}')\n",
    "        print('history items : \\n', np.array(env.get_items_names(items_ids)))\n",
    "\n",
    "    while not done:\n",
    "\n",
    "        # Observe current state & Find action\n",
    "        ## Embedding 해주기\n",
    "        user_eb = recommender.embedding_network.get_layer('user_embedding')(np.array(user_id))\n",
    "        items_eb = recommender.embedding_network.get_layer('movie_embedding')(np.array(items_ids))\n",
    "        ## SRM으로 state 출력\n",
    "        state = recommender.srm_ave([np.expand_dims(user_eb, axis=0), np.expand_dims(items_eb, axis=0)])\n",
    "        ## Action(ranking score) 출력\n",
    "        action = recommender.actor.network(state)\n",
    "        ## Item 추천\n",
    "        recommended_item = recommender.recommend_item(action, env.recommended_items, top_k=top_k)\n",
    "        if check_movies:\n",
    "            print(f'recommended items ids : {recommended_item}')\n",
    "            print(f'recommened items : \\n {np.array(env.get_items_names(recommended_item), dtype=object)}')\n",
    "        # Calculate reward & observe new state (in env)\n",
    "        ## Step\n",
    "        next_items_ids, reward, done, _ = env.step(recommended_item, top_k=top_k)\n",
    "        if top_k:\n",
    "            correct_list = [1 if r > 0 else 0 for r in reward]\n",
    "            # ndcg\n",
    "            dcg, idcg = calculate_ndcg(correct_list, [1 for _ in range(len(reward))])\n",
    "            mean_ndcg += dcg/idcg\n",
    "            \n",
    "            #precision\n",
    "            correct_num = top_k-correct_list.count(0)\n",
    "            mean_precision += correct_num/top_k\n",
    "            \n",
    "        reward = np.sum(reward)\n",
    "        items_ids = next_items_ids\n",
    "        episode_reward += reward\n",
    "        steps += 1\n",
    "        \n",
    "        if check_movies:\n",
    "            print(f'precision : {correct_num/top_k}, dcg : {dcg:0.3f}, idcg : {idcg:0.3f}, ndcg : {dcg/idcg:0.3f}, reward : {reward}')\n",
    "            print()\n",
    "        break\n",
    "    \n",
    "    if check_movies:\n",
    "        print(f'precision : {mean_precision/steps}, ngcg : {mean_ndcg/steps}, episode_reward : {episode_reward}')\n",
    "        print()\n",
    "    \n",
    "    return mean_precision/steps, mean_ndcg/steps\n",
    "\n",
    "def calculate_ndcg(rel, irel):\n",
    "    dcg = 0\n",
    "    idcg = 0\n",
    "    rel = [1 if r>0 else 0 for r in rel]\n",
    "    for i, (r, ir) in enumerate(zip(rel, irel)):\n",
    "        dcg += (r)/np.log2(i+2)\n",
    "        idcg += (ir)/np.log2(i+2)\n",
    "    return dcg, idcg"
   ]
  },
  {
   "cell_type": "code",
   "execution_count": 32,
   "metadata": {},
   "outputs": [],
   "source": [
    "# get the saved model dir\n",
    "saved_actor = './save_model/trail-2022-12-13-04/actor_10_fixed.h5'\n",
    "saved_critic = './save_model/trail-2022-12-13-04/critic_10_fixed.h5'"
   ]
  },
  {
   "cell_type": "code",
   "execution_count": 33,
   "metadata": {},
   "outputs": [],
   "source": [
    "tf.keras.backend.set_floatx('float64')"
   ]
  },
  {
   "cell_type": "code",
   "execution_count": 34,
   "metadata": {
    "scrolled": false
   },
   "outputs": [
    {
     "name": "stdout",
     "output_type": "stream",
     "text": [
      "user_id : 4833, rated_items_length:81\n",
      "history items : \n",
      " [['Vacation (1983)' 'Comedy']\n",
      " ['Airplane II: The Sequel (1982)' 'Comedy']\n",
      " ['In the Heat of the Night (1967)' 'Drama|Mystery']\n",
      " ['Muppet Treasure Island (1996)' \"Adventure|Children's|Comedy|Musical\"]\n",
      " ['Braveheart (1995)' 'Action|Drama|War']\n",
      " ['Beauty and the Beast (1991)' \"Animation|Children's|Musical\"]\n",
      " ['Mad Max 2 (a.k.a. The Road Warrior) (1981)' 'Action|Sci-Fi']\n",
      " ['Silence of the Lambs, The (1991)' 'Drama|Thriller']\n",
      " ['Amadeus (1984)' 'Drama']\n",
      " ['Grapes of Wrath, The (1940)' 'Drama']]\n",
      "recommended items ids : [1198  260  858 1131 1293 1270 2858 1259  111 2762]\n",
      "recommened items : \n",
      " [['Raiders of the Lost Ark (1981)' 'Action|Adventure']\n",
      " ['Star Wars: Episode IV - A New Hope (1977)'\n",
      "  'Action|Adventure|Fantasy|Sci-Fi']\n",
      " ['Godfather, The (1972)' 'Action|Crime|Drama']\n",
      " ['Jean de Florette (1986)' 'Drama']\n",
      " ['Gandhi (1982)' 'Drama']\n",
      " ['Back to the Future (1985)' 'Comedy|Sci-Fi']\n",
      " ['American Beauty (1999)' 'Comedy|Drama']\n",
      " ['Stand by Me (1986)' 'Adventure|Comedy|Drama']\n",
      " ['Taxi Driver (1976)' 'Drama|Thriller']\n",
      " ['Sixth Sense, The (1999)' 'Thriller']]\n",
      "precision : 0.4, dcg : 1.592, idcg : 4.544, ndcg : 0.350, reward : 0.5\n",
      "\n",
      "precision : 0.4, ngcg : 0.35031272298795885, episode_reward : 0.5\n",
      "\n",
      "user_id : 4834, rated_items_length:280\n",
      "history items : \n",
      " [['Star Wars: Episode VI - Return of the Jedi (1983)'\n",
      "  'Action|Adventure|Romance|Sci-Fi|War']\n",
      " ['Silence of the Lambs, The (1991)' 'Drama|Thriller']\n",
      " ['Boxing Helena (1993)' 'Mystery|Romance|Thriller']\n",
      " ['Back to the Future (1985)' 'Comedy|Sci-Fi']\n",
      " [\"Breakfast at Tiffany's (1961)\" 'Drama|Romance']\n",
      " ['Mrs. Doubtfire (1993)' 'Comedy']\n",
      " ['Ponette (1996)' 'Drama']\n",
      " ['To Kill a Mockingbird (1962)' 'Drama']\n",
      " ['Central Station (Central do Brasil) (1998)' 'Drama']\n",
      " ['Godfather, The (1972)' 'Action|Crime|Drama']]\n",
      "recommended items ids : [2858 3424 3504 3543 1250 3361 1299 1288 1276 2804]\n",
      "recommened items : \n",
      " [['American Beauty (1999)' 'Comedy|Drama']\n",
      " ['Do the Right Thing (1989)' 'Comedy|Drama']\n",
      " ['Network (1976)' 'Comedy|Drama']\n",
      " ['Diner (1982)' 'Comedy|Drama']\n",
      " ['Bridge on the River Kwai, The (1957)' 'Drama|War']\n",
      " ['Bull Durham (1988)' 'Comedy']\n",
      " ['Killing Fields, The (1984)' 'Drama|War']\n",
      " ['This Is Spinal Tap (1984)' 'Comedy|Drama|Musical']\n",
      " ['Cool Hand Luke (1967)' 'Comedy|Drama']\n",
      " ['Christmas Story, A (1983)' 'Comedy|Drama']]\n",
      "precision : 0.4, dcg : 1.477, idcg : 4.544, ndcg : 0.325, reward : 1.0\n",
      "\n",
      "precision : 0.4, ngcg : 0.32506401244400185, episode_reward : 1.0\n",
      "\n",
      "user_id : 4835, rated_items_length:83\n",
      "history items : \n",
      " [['Dave (1993)' 'Comedy|Romance']\n",
      " ['Santa Clause, The (1994)' \"Children's|Comedy|Fantasy\"]\n",
      " ['Batman: Mask of the Phantasm (1993)' \"Animation|Children's\"]\n",
      " [\"Amityville 1992: It's About Time (1992)\" 'Horror']\n",
      " ['North by Northwest (1959)' 'Drama|Thriller']\n",
      " ['Just Cause (1995)' 'Mystery|Thriller']\n",
      " ['East of Eden (1955)' 'Drama']\n",
      " ['Sixth Sense, The (1999)' 'Thriller']\n",
      " ['L.A. Story (1991)' 'Comedy|Romance']\n",
      " ['Alien Nation (1988)' 'Crime|Drama|Sci-Fi']]\n",
      "recommended items ids : [1225 3543 1079 2716  260 1131 1198 1259 1270 1288]\n",
      "recommened items : \n",
      " [['Amadeus (1984)' 'Drama']\n",
      " ['Diner (1982)' 'Comedy|Drama']\n",
      " ['Fish Called Wanda, A (1988)' 'Comedy']\n",
      " ['Ghostbusters (1984)' 'Comedy|Horror']\n",
      " ['Star Wars: Episode IV - A New Hope (1977)'\n",
      "  'Action|Adventure|Fantasy|Sci-Fi']\n",
      " ['Jean de Florette (1986)' 'Drama']\n",
      " ['Raiders of the Lost Ark (1981)' 'Action|Adventure']\n",
      " ['Stand by Me (1986)' 'Adventure|Comedy|Drama']\n",
      " ['Back to the Future (1985)' 'Comedy|Sci-Fi']\n",
      " ['This Is Spinal Tap (1984)' 'Comedy|Drama|Musical']]\n",
      "precision : 0.2, dcg : 0.720, idcg : 4.544, ndcg : 0.159, reward : -2.0\n",
      "\n",
      "precision : 0.2, ngcg : 0.15850703974098102, episode_reward : -2.0\n",
      "\n",
      "user_id : 4836, rated_items_length:65\n",
      "history items : \n",
      " [['Star Wars: Episode IV - A New Hope (1977)'\n",
      "  'Action|Adventure|Fantasy|Sci-Fi']\n",
      " ['Splash (1984)' 'Comedy|Fantasy|Romance']\n",
      " ['Yellow Submarine (1968)' 'Animation|Musical']\n",
      " ['On Golden Pond (1981)' 'Drama']\n",
      " ['Stigmata (1999)' 'Thriller']\n",
      " [\"They Shoot Horses, Don't They? (1969)\" 'Drama']\n",
      " ['Patriot, The (2000)' 'Action|Drama|War']\n",
      " ['Myth of Fingerprints, The (1997)' 'Comedy|Drama']\n",
      " ['Before the Rain (Pred dozhdot) (1994)' 'Drama']\n",
      " [\"Schindler's List (1993)\" 'Drama|War']]\n",
      "recommended items ids : [3148 1225 3175 1097  111 1198 1288 1131 1259 1270]\n",
      "recommened items : \n",
      " [['Cider House Rules, The (1999)' 'Drama']\n",
      " ['Amadeus (1984)' 'Drama']\n",
      " ['Galaxy Quest (1999)' 'Adventure|Comedy|Sci-Fi']\n",
      " ['E.T. the Extra-Terrestrial (1982)' \"Children's|Drama|Fantasy|Sci-Fi\"]\n",
      " ['Taxi Driver (1976)' 'Drama|Thriller']\n",
      " ['Raiders of the Lost Ark (1981)' 'Action|Adventure']\n",
      " ['This Is Spinal Tap (1984)' 'Comedy|Drama|Musical']\n",
      " ['Jean de Florette (1986)' 'Drama']\n",
      " ['Stand by Me (1986)' 'Adventure|Comedy|Drama']\n",
      " ['Back to the Future (1985)' 'Comedy|Sci-Fi']]\n",
      "precision : 0.0, dcg : 0.000, idcg : 4.544, ndcg : 0.000, reward : -5.0\n",
      "\n",
      "precision : 0.0, ngcg : 0.0, episode_reward : -5.0\n",
      "\n",
      "user_id : 4837, rated_items_length:328\n",
      "history items : \n",
      " [['Kiss of Death (1995)' 'Crime|Drama|Thriller']\n",
      " ['Operation Condor (Feiying gaiwak) (1990)' 'Action|Adventure|Comedy']\n",
      " ['Braveheart (1995)' 'Action|Drama|War']\n",
      " ['Rocky II (1979)' 'Action|Drama']\n",
      " ['Original Gangstas (1996)' 'Crime']\n",
      " ['Sixth Sense, The (1999)' 'Thriller']\n",
      " ['Nightmare on Elm Street 5: The Dream Child, A (1989)' 'Horror']\n",
      " ['New Jersey Drive (1995)' 'Crime|Drama']\n",
      " ['Star Wars: Episode VI - Return of the Jedi (1983)'\n",
      "  'Action|Adventure|Romance|Sci-Fi|War']\n",
      " ['Assault on Precinct 13 (1976)' 'Action|Thriller']]\n",
      "recommended items ids : [3481 1097 3175  111 1198  260 1259 1131 1288 1270]\n",
      "recommened items : \n",
      " [['High Fidelity (2000)' 'Comedy']\n",
      " ['E.T. the Extra-Terrestrial (1982)' \"Children's|Drama|Fantasy|Sci-Fi\"]\n",
      " ['Galaxy Quest (1999)' 'Adventure|Comedy|Sci-Fi']\n",
      " ['Taxi Driver (1976)' 'Drama|Thriller']\n",
      " ['Raiders of the Lost Ark (1981)' 'Action|Adventure']\n",
      " ['Star Wars: Episode IV - A New Hope (1977)'\n",
      "  'Action|Adventure|Fantasy|Sci-Fi']\n",
      " ['Stand by Me (1986)' 'Adventure|Comedy|Drama']\n",
      " ['Jean de Florette (1986)' 'Drama']\n",
      " ['This Is Spinal Tap (1984)' 'Comedy|Drama|Musical']\n",
      " ['Back to the Future (1985)' 'Comedy|Sci-Fi']]\n",
      "precision : 0.2, dcg : 0.622, idcg : 4.544, ndcg : 0.137, reward : -2.5\n",
      "\n",
      "precision : 0.2, ngcg : 0.13698471029831175, episode_reward : -2.5\n",
      "\n",
      "user_id : 4838, rated_items_length:39\n",
      "history items : \n",
      " [['Adventures of Milo and Otis, The (1986)' \"Children's\"]\n",
      " ['Honey, I Shrunk the Kids (1989)'\n",
      "  \"Adventure|Children's|Comedy|Fantasy|Sci-Fi\"]\n",
      " ['Gone with the Wind (1939)' 'Drama|Romance|War']\n",
      " ['Aladdin and the King of Thieves (1996)' \"Animation|Children's|Comedy\"]\n",
      " [\"Schindler's List (1993)\" 'Drama|War']\n",
      " ['Adventures of Rocky and Bullwinkle, The (2000)'\n",
      "  \"Animation|Children's|Comedy\"]\n",
      " ['Chicken Run (2000)' \"Animation|Children's|Comedy\"]\n",
      " ['Paulie (1998)' \"Adventure|Children's|Comedy\"]\n",
      " ['Dances with Wolves (1990)' 'Adventure|Drama|Western']\n",
      " ['Secret of Roan Inish, The (1994)' 'Drama']]\n",
      "recommended items ids : [1225 1097 3175 1198  111 1288  260 1131 1259 1270]\n",
      "recommened items : \n",
      " [['Amadeus (1984)' 'Drama']\n",
      " ['E.T. the Extra-Terrestrial (1982)' \"Children's|Drama|Fantasy|Sci-Fi\"]\n",
      " ['Galaxy Quest (1999)' 'Adventure|Comedy|Sci-Fi']\n",
      " ['Raiders of the Lost Ark (1981)' 'Action|Adventure']\n",
      " ['Taxi Driver (1976)' 'Drama|Thriller']\n",
      " ['This Is Spinal Tap (1984)' 'Comedy|Drama|Musical']\n",
      " ['Star Wars: Episode IV - A New Hope (1977)'\n",
      "  'Action|Adventure|Fantasy|Sci-Fi']\n",
      " ['Jean de Florette (1986)' 'Drama']\n",
      " ['Stand by Me (1986)' 'Adventure|Comedy|Drama']\n",
      " ['Back to the Future (1985)' 'Comedy|Sci-Fi']]\n",
      "precision : 0.0, dcg : 0.000, idcg : 4.544, ndcg : 0.000, reward : -5.0\n",
      "\n",
      "precision : 0.0, ngcg : 0.0, episode_reward : -5.0\n",
      "\n",
      "user_id : 4839, rated_items_length:23\n",
      "history items : \n",
      " [['Papillon (1973)' 'Drama']\n",
      " ['Sleeper (1973)' 'Comedy|Sci-Fi']\n",
      " ['Dave (1993)' 'Comedy|Romance']\n",
      " ['Braveheart (1995)' 'Action|Drama|War']\n",
      " ['Get Shorty (1995)' 'Action|Comedy|Drama']\n",
      " ['Titanic (1997)' 'Drama|Romance']\n",
      " ['Limey, The (1999)' 'Action|Crime|Drama']\n",
      " ['Sixth Sense, The (1999)' 'Thriller']\n",
      " ['Insider, The (1999)' 'Drama']\n",
      " ['American Beauty (1999)' 'Comedy|Drama']]\n",
      "recommended items ids : [ 111  541 1097 3175 1198  260 1131 1288 1259 1270]\n",
      "recommened items : \n",
      " [['Taxi Driver (1976)' 'Drama|Thriller']\n",
      " ['Blade Runner (1982)' 'Film-Noir|Sci-Fi']\n",
      " ['E.T. the Extra-Terrestrial (1982)' \"Children's|Drama|Fantasy|Sci-Fi\"]\n",
      " ['Galaxy Quest (1999)' 'Adventure|Comedy|Sci-Fi']\n",
      " ['Raiders of the Lost Ark (1981)' 'Action|Adventure']\n",
      " ['Star Wars: Episode IV - A New Hope (1977)'\n",
      "  'Action|Adventure|Fantasy|Sci-Fi']\n",
      " ['Jean de Florette (1986)' 'Drama']\n",
      " ['This Is Spinal Tap (1984)' 'Comedy|Drama|Musical']\n",
      " ['Stand by Me (1986)' 'Adventure|Comedy|Drama']\n",
      " ['Back to the Future (1985)' 'Comedy|Sci-Fi']]\n",
      "precision : 0.0, dcg : 0.000, idcg : 4.544, ndcg : 0.000, reward : -4.5\n",
      "\n",
      "precision : 0.0, ngcg : 0.0, episode_reward : -4.5\n",
      "\n",
      "user_id : 4840, rated_items_length:72\n",
      "history items : \n",
      " [['Midnight in the Garden of Good and Evil (1997)'\n",
      "  'Comedy|Crime|Drama|Mystery']\n",
      " ['E.T. the Extra-Terrestrial (1982)' \"Children's|Drama|Fantasy|Sci-Fi\"]\n",
      " ['L.A. Confidential (1997)' 'Crime|Film-Noir|Mystery|Thriller']\n",
      " ['Karate Kid III, The (1989)' 'Action|Adventure|Drama']\n",
      " ['Forrest Gump (1994)' 'Comedy|Romance|War']\n",
      " ['True Grit (1969)' 'Adventure|Western']\n",
      " ['Searchers, The (1956)' 'Western']\n",
      " ['Butch Cassidy and the Sundance Kid (1969)' 'Action|Comedy|Western']\n",
      " ['Unforgiven (1992)' 'Western']\n",
      " ['Dances with Wolves (1990)' 'Adventure|Drama|Western']]\n",
      "recommended items ids : [2716 1210 1961 1198  111 1196 3175  260 1270 1259]\n",
      "recommened items : \n",
      " [['Ghostbusters (1984)' 'Comedy|Horror']\n",
      " ['Star Wars: Episode VI - Return of the Jedi (1983)'\n",
      "  'Action|Adventure|Romance|Sci-Fi|War']\n",
      " ['Rain Man (1988)' 'Drama']\n",
      " ['Raiders of the Lost Ark (1981)' 'Action|Adventure']\n",
      " ['Taxi Driver (1976)' 'Drama|Thriller']\n",
      " ['Star Wars: Episode V - The Empire Strikes Back (1980)'\n",
      "  'Action|Adventure|Drama|Sci-Fi|War']\n",
      " ['Galaxy Quest (1999)' 'Adventure|Comedy|Sci-Fi']\n",
      " ['Star Wars: Episode IV - A New Hope (1977)'\n",
      "  'Action|Adventure|Fantasy|Sci-Fi']\n",
      " ['Back to the Future (1985)' 'Comedy|Sci-Fi']\n",
      " ['Stand by Me (1986)' 'Adventure|Comedy|Drama']]\n",
      "precision : 0.2, dcg : 1.333, idcg : 4.544, ndcg : 0.293, reward : -2.0\n",
      "\n",
      "precision : 0.2, ngcg : 0.2934556883974402, episode_reward : -2.0\n",
      "\n",
      "user_id : 4841, rated_items_length:92\n",
      "history items : \n",
      " [['Forrest Gump (1994)' 'Comedy|Romance|War']\n",
      " ['Mulholland Falls (1996)' 'Crime|Film-Noir|Thriller']\n",
      " ['Princess Bride, The (1987)' 'Action|Adventure|Comedy|Romance']\n",
      " ['Hook (1991)' 'Adventure|Fantasy']\n",
      " ['Casino (1995)' 'Drama|Thriller']\n",
      " ['Raiders of the Lost Ark (1981)' 'Action|Adventure']\n",
      " ['Croupier (1998)' 'Crime|Drama']\n",
      " ['Chicken Run (2000)' \"Animation|Children's|Comedy\"]\n",
      " ['Hamlet (2000)' 'Drama']\n",
      " ['Big Kahuna, The (2000)' 'Comedy|Drama']]\n",
      "recommended items ids : [2858 1230 1097 1259 1196 2716 2997 1270 1288  260]\n",
      "recommened items : \n",
      " [['American Beauty (1999)' 'Comedy|Drama']\n",
      " ['Annie Hall (1977)' 'Comedy|Romance']\n",
      " ['E.T. the Extra-Terrestrial (1982)' \"Children's|Drama|Fantasy|Sci-Fi\"]\n",
      " ['Stand by Me (1986)' 'Adventure|Comedy|Drama']\n",
      " ['Star Wars: Episode V - The Empire Strikes Back (1980)'\n",
      "  'Action|Adventure|Drama|Sci-Fi|War']\n",
      " ['Ghostbusters (1984)' 'Comedy|Horror']\n",
      " ['Being John Malkovich (1999)' 'Comedy']\n",
      " ['Back to the Future (1985)' 'Comedy|Sci-Fi']\n",
      " ['This Is Spinal Tap (1984)' 'Comedy|Drama|Musical']\n",
      " ['Star Wars: Episode IV - A New Hope (1977)'\n",
      "  'Action|Adventure|Fantasy|Sci-Fi']]\n",
      "precision : 0.5, dcg : 2.409, idcg : 4.544, ndcg : 0.530, reward : 1.0\n",
      "\n",
      "precision : 0.5, ngcg : 0.530263109944618, episode_reward : 1.0\n",
      "\n"
     ]
    },
    {
     "name": "stdout",
     "output_type": "stream",
     "text": [
      "user_id : 4842, rated_items_length:69\n",
      "history items : \n",
      " [['Plan 9 from Outer Space (1958)' 'Horror|Sci-Fi']\n",
      " ['Casablanca (1942)' 'Drama|Romance|War']\n",
      " ['EDtv (1999)' 'Comedy']\n",
      " ['Princess Bride, The (1987)' 'Action|Adventure|Comedy|Romance']\n",
      " ['Irma la Douce (1963)' 'Comedy']\n",
      " ['American Tail, An (1986)' \"Animation|Children's|Comedy\"]\n",
      " ['American Beauty (1999)' 'Comedy|Drama']\n",
      " ['Being John Malkovich (1999)' 'Comedy']\n",
      " ['Sixth Sense, The (1999)' 'Thriller']\n",
      " ['Limey, The (1999)' 'Action|Crime|Drama']]\n",
      "recommended items ids : [1210 2716 1198 1288 1196 3175 1097  260 1259 1270]\n",
      "recommened items : \n",
      " [['Star Wars: Episode VI - Return of the Jedi (1983)'\n",
      "  'Action|Adventure|Romance|Sci-Fi|War']\n",
      " ['Ghostbusters (1984)' 'Comedy|Horror']\n",
      " ['Raiders of the Lost Ark (1981)' 'Action|Adventure']\n",
      " ['This Is Spinal Tap (1984)' 'Comedy|Drama|Musical']\n",
      " ['Star Wars: Episode V - The Empire Strikes Back (1980)'\n",
      "  'Action|Adventure|Drama|Sci-Fi|War']\n",
      " ['Galaxy Quest (1999)' 'Adventure|Comedy|Sci-Fi']\n",
      " ['E.T. the Extra-Terrestrial (1982)' \"Children's|Drama|Fantasy|Sci-Fi\"]\n",
      " ['Star Wars: Episode IV - A New Hope (1977)'\n",
      "  'Action|Adventure|Fantasy|Sci-Fi']\n",
      " ['Stand by Me (1986)' 'Adventure|Comedy|Drama']\n",
      " ['Back to the Future (1985)' 'Comedy|Sci-Fi']]\n",
      "precision : 0.3, dcg : 1.702, idcg : 4.544, ndcg : 0.375, reward : -1.5\n",
      "\n",
      "precision : 0.3, ngcg : 0.3746661058764784, episode_reward : -1.5\n",
      "\n",
      "user_id : 4843, rated_items_length:116\n",
      "history items : \n",
      " [['Fatal Attraction (1987)' 'Thriller']\n",
      " ['Jurassic Park (1993)' 'Action|Adventure|Sci-Fi']\n",
      " ['Mrs. Brown (Her Majesty, Mrs. Brown) (1997)' 'Drama|Romance']\n",
      " ['Moonstruck (1987)' 'Comedy']\n",
      " ['Back to the Future (1985)' 'Comedy|Sci-Fi']\n",
      " ['Blowup (1966)' 'Drama|Mystery']\n",
      " ['Hamlet (1990)' 'Drama']\n",
      " ['Tango (1998)' 'Drama']\n",
      " ['400 Blows, The (Les Quatre cents coups) (1959)' 'Drama']\n",
      " ['Godfather, The (1972)' 'Action|Crime|Drama']]\n",
      "recommended items ids : [1210 1961 1230 2716 1196 1225 3175 1097  260 1259]\n",
      "recommened items : \n",
      " [['Star Wars: Episode VI - Return of the Jedi (1983)'\n",
      "  'Action|Adventure|Romance|Sci-Fi|War']\n",
      " ['Rain Man (1988)' 'Drama']\n",
      " ['Annie Hall (1977)' 'Comedy|Romance']\n",
      " ['Ghostbusters (1984)' 'Comedy|Horror']\n",
      " ['Star Wars: Episode V - The Empire Strikes Back (1980)'\n",
      "  'Action|Adventure|Drama|Sci-Fi|War']\n",
      " ['Amadeus (1984)' 'Drama']\n",
      " ['Galaxy Quest (1999)' 'Adventure|Comedy|Sci-Fi']\n",
      " ['E.T. the Extra-Terrestrial (1982)' \"Children's|Drama|Fantasy|Sci-Fi\"]\n",
      " ['Star Wars: Episode IV - A New Hope (1977)'\n",
      "  'Action|Adventure|Fantasy|Sci-Fi']\n",
      " ['Stand by Me (1986)' 'Adventure|Comedy|Drama']]\n",
      "precision : 0.2, dcg : 0.645, idcg : 4.544, ndcg : 0.142, reward : -1.5\n",
      "\n",
      "precision : 0.2, ngcg : 0.14201905717762703, episode_reward : -1.5\n",
      "\n",
      "user_id : 4844, rated_items_length:29\n",
      "history items : \n",
      " [[\"Jumpin' Jack Flash (1986)\" 'Action|Comedy|Romance|Thriller']\n",
      " ['Star Wars: Episode VI - Return of the Jedi (1983)'\n",
      "  'Action|Adventure|Romance|Sci-Fi|War']\n",
      " ['McCabe & Mrs. Miller (1971)' 'Drama|Western']\n",
      " ['L.A. Confidential (1997)' 'Crime|Film-Noir|Mystery|Thriller']\n",
      " ['Mrs. Winterbourne (1996)' 'Comedy|Romance']\n",
      " [\"Gentleman's Agreement (1947)\" 'Drama']\n",
      " ['American Beauty (1999)' 'Comedy|Drama']\n",
      " ['Talented Mr. Ripley, The (1999)' 'Drama|Mystery|Thriller']\n",
      " ['World Is Not Enough, The (1999)' 'Action|Thriller']\n",
      " ['Star Wars: Episode I - The Phantom Menace (1999)'\n",
      "  'Action|Adventure|Fantasy|Sci-Fi']]\n",
      "recommended items ids : [ 260 2716 1225 2997 1198  111 1259 1131 1288 1270]\n",
      "recommened items : \n",
      " [['Star Wars: Episode IV - A New Hope (1977)'\n",
      "  'Action|Adventure|Fantasy|Sci-Fi']\n",
      " ['Ghostbusters (1984)' 'Comedy|Horror']\n",
      " ['Amadeus (1984)' 'Drama']\n",
      " ['Being John Malkovich (1999)' 'Comedy']\n",
      " ['Raiders of the Lost Ark (1981)' 'Action|Adventure']\n",
      " ['Taxi Driver (1976)' 'Drama|Thriller']\n",
      " ['Stand by Me (1986)' 'Adventure|Comedy|Drama']\n",
      " ['Jean de Florette (1986)' 'Drama']\n",
      " ['This Is Spinal Tap (1984)' 'Comedy|Drama|Musical']\n",
      " ['Back to the Future (1985)' 'Comedy|Sci-Fi']]\n",
      "precision : 0.0, dcg : 0.000, idcg : 4.544, ndcg : 0.000, reward : -5.0\n",
      "\n",
      "precision : 0.0, ngcg : 0.0, episode_reward : -5.0\n",
      "\n",
      "precision@10 : 0.001986754966887417, ndcg@10 : 0.0019133050056849479\n"
     ]
    }
   ],
   "source": [
    "TOP_K = 10 # chose any k value as you want\n",
    "\n",
    "sum_precision = 0\n",
    "sum_ndcg = 0\n",
    "\n",
    "end_evaluation = 10\n",
    "\n",
    "for i, user_id in enumerate(eval_users_dict.keys()):\n",
    "    env = OfflineEnv(eval_users_dict, users_history_lens, movies_id_to_movies, STATE_SIZE, fix_user_id=user_id)\n",
    "    recommender = DRRAgent(env, users_num, items_num, STATE_SIZE)\n",
    "    recommender.actor.build_networks()\n",
    "    recommender.critic.build_networks()\n",
    "    recommender.load_model(saved_actor, saved_critic)\n",
    "    precision, ndcg = evaluate(recommender, env, check_movies=True, top_k=TOP_K) # if check movies is true, you can check the recommended movies\n",
    "    sum_precision += precision\n",
    "    sum_ndcg += ndcg\n",
    "    \n",
    "    if i > end_evaluation:\n",
    "        break\n",
    "    \n",
    "print(f'precision@{TOP_K} : {sum_precision/len(eval_users_dict)}, ndcg@{TOP_K} : {sum_ndcg/len(eval_users_dict)}')"
   ]
  },
  {
   "cell_type": "code",
   "execution_count": null,
   "metadata": {},
   "outputs": [],
   "source": []
  }
 ],
 "metadata": {
  "colab": {
   "collapsed_sections": [],
   "include_colab_link": true,
   "machine_shape": "hm",
   "name": "RL_ActorCritic_DDPG_Movie_Recommendation.ipynb",
   "provenance": []
  },
  "kernelspec": {
   "display_name": "Python 3 (ipykernel)",
   "language": "python",
   "name": "python3"
  },
  "language_info": {
   "codemirror_mode": {
    "name": "ipython",
    "version": 3
   },
   "file_extension": ".py",
   "mimetype": "text/x-python",
   "name": "python",
   "nbconvert_exporter": "python",
   "pygments_lexer": "ipython3",
   "version": "3.9.15"
  }
 },
 "nbformat": 4,
 "nbformat_minor": 1
}
